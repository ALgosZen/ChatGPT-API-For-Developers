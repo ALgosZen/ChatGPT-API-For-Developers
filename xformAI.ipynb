{
 "cells": [
  {
   "cell_type": "code",
   "execution_count": null,
   "id": "e6a3b707",
   "metadata": {},
   "outputs": [],
   "source": [
    "import openai\n",
    "import os\n",
    "\n",
    "from dotenv import load_dotenv, find_dotenv\n",
    "_ = load_dotenv(find_dotenv()) # read local .env file\n",
    "\n",
    "openai.api_key  = os.getenv('OPENAI_API_KEY')"
   ]
  },
  {
   "cell_type": "code",
   "execution_count": null,
   "id": "b055f18a",
   "metadata": {},
   "outputs": [],
   "source": [
    "def get_completion(prompt, model=\"gpt-3.5-turbo\", temperature=5): \n",
    "    messages = [{\"role\": \"user\", \"content\": prompt}]\n",
    "    response = openai.ChatCompletion.create(\n",
    "        model=model,\n",
    "        messages=messages,\n",
    "        temperature=temperature, \n",
    "    )\n",
    "    return response.choices[0].message[\"content\"]"
   ]
  },
  {
   "cell_type": "code",
   "execution_count": null,
   "id": "613572db",
   "metadata": {},
   "outputs": [],
   "source": [
    "prompt = f\"\"\"\n",
    "Translate the following English text to Spanish: \\ \n",
    "```Hi, I would like to order a blender```\n",
    "\"\"\"\n",
    "try:\n",
    "    response = get_completion(prompt)\n",
    "    print(response)\n",
    "    except openai.error.RateLimitError as e:\n",
    "        retry_time = e.retry_after if hasattr(e, 'retry_after') else 30\n",
    "        print(f\"Rate limit exceeded. Retrying in {retry_time} seconds...\")\n",
    "        time.sleep(retry_time)\n",
    "return chat(prompt)\n"
   ]
  },
  {
   "cell_type": "code",
   "execution_count": 1,
   "id": "77042d10",
   "metadata": {},
   "outputs": [],
   "source": [
    "def chat(prompt):\n",
    "\n",
    "   openai.api_key = \"YOUR API KEY\"\n",
    "\n",
    "   try:\n",
    "\n",
    "      response = openai.ChatCompletion.create(\n",
    "      model = \"gpt-3.5-turbo\",\n",
    "      messages = [{\"role\": 'system', \"content\": f'{prompt}'}]\n",
    "      )\n",
    "\n",
    "      answer = response[\"choices\"][0][\"message\"][\"content\"]\n",
    "      usage = response[\"usage\"][\"total_tokens\"]\n",
    "\n",
    "      return answer, usage\n",
    "\n",
    "\n",
    "   except openai.error.RateLimitError as e:\n",
    "\n",
    "      retry_time = e.retry_after if hasattr(e, 'retry_after') else 30\n",
    "      print(f\"Rate limit exceeded. Retrying in {retry_time} seconds...\")\n",
    "      time.sleep(retry_time)\n",
    "      return chat(prompt)"
   ]
  },
  {
   "cell_type": "code",
   "execution_count": null,
   "id": "a309ba22",
   "metadata": {},
   "outputs": [],
   "source": []
  }
 ],
 "metadata": {
  "kernelspec": {
   "display_name": "NLPProject",
   "language": "python",
   "name": "nlpproject"
  },
  "language_info": {
   "codemirror_mode": {
    "name": "ipython",
    "version": 3
   },
   "file_extension": ".py",
   "mimetype": "text/x-python",
   "name": "python",
   "nbconvert_exporter": "python",
   "pygments_lexer": "ipython3",
   "version": "3.9.16"
  }
 },
 "nbformat": 4,
 "nbformat_minor": 5
}
